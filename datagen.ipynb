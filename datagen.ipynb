{
 "cells": [
  {
   "cell_type": "code",
   "execution_count": 25,
   "id": "a379cec2",
   "metadata": {},
   "outputs": [],
   "source": [
    "import exrex\n",
    "import random\n",
    "import re\n",
    "import faker\n",
    "import os"
   ]
  },
  {
   "cell_type": "code",
   "execution_count": 26,
   "id": "90f2a040",
   "metadata": {},
   "outputs": [],
   "source": [
    "fake = faker.Faker()\n"
   ]
  },
  {
   "cell_type": "code",
   "execution_count": 37,
   "id": "b47cef2a",
   "metadata": {},
   "outputs": [
    {
     "data": {
      "text/plain": [
       "re.MULTILINE"
      ]
     },
     "execution_count": 37,
     "metadata": {},
     "output_type": "execute_result"
    }
   ],
   "source": [
    "re.MULTILINE"
   ]
  },
  {
   "cell_type": "code",
   "execution_count": 45,
   "id": "bfd02a56",
   "metadata": {},
   "outputs": [],
   "source": [
    "regexes=[\n",
    "    {'pattern': r'((978[\\-– ])?[0-9][0-9\\-– ]{10}[\\-– ][0-9xX])|((978)?[0-9]{9}[0-9Xx])', 'name':'isbn  10  and 13'},\n",
    "    {'pattern': r\"^[a-zA-Z0-9!#$%&'*+/=?^_`{|}~-]+(?:\\.[a-zA-Z0-9!#$%&'*+/=?^_`{|}~-]+)*@(?:[a-zA-Z0-9](?:[a-zA-Z0-9-]*[a-zA-Z0-9])?\\.)+(?:[a-zA-Z]{2}|aero|asia|biz|cat|com|coop|edu|gov|info|int|jobs|mil|mobi|museum|name|net|org|pro|tel|travel)$\", 'name':'email'},\n",
    "    {'pattern': r\"^(\\d{4}-){3}\\d{4}$|^(\\d{4} ){3}\\d{4}$|^\\d{16}$\", 'name':'card number'},\n",
    "    {'pattern': r\"^([a-zA-Z '-]+)$\", 'name':'name'},\n",
    "    {'pattern': r\"(::|(([a-fA-F0-9]{1,4}):){7}(([a-fA-F0-9]{1,4}))|(:(:([a-fA-F0-9]{1,4})){1,6})|((([a-fA-F0-9]{1,4}):){1,6}:)|((([a-fA-F0-9]{1,4}):)(:([a-fA-F0-9]{1,4})){1,6})|((([a-fA-F0-9]{1,4}):){2}(:([a-fA-F0-9]{1,4})){1,5})|((([a-fA-F0-9]{1,4}):){3}(:([a-fA-F0-9]{1,4})){1,4})|((([a-fA-F0-9]{1,4}):){4}(:([a-fA-F0-9]{1,4})){1,3})|((([a-fA-F0-9]{1,4}):){5}(:([a-fA-F0-9]{1,4})){1,2}))\", 'name':'IPv6'},\n",
    "    {'pattern': r\"^\\d*[0-9](|.\\d*[0-9]|)*$\", 'name':'float'},\n",
    "    {'pattern': r\"^(?=.*[0-9]+.*)(?=.*[a-zA-Z]+.*)[0-9a-zA-Z]{6,}$\", 'name':'password'},\n",
    "    {'pattern': r\"^((?!000)(?!666)(?:[0-6]\\d{2}|7[0-2][0-9]|73[0-3]|7[5-6][0-9]|77[0-2]))-((?!00)\\d{2})-((?!0000)\\d{4})$\", 'name':'ssn'},\n",
    "    {'pattern': r\"(^(((GIR)\\s{0,1}((0AA))))|(([A-PR-UWYZ][0-9][0-9]?)|([A-PR-UWYZ][A-HK-Y][0-9][0-9]?)|([A-PR-UWYZ][0-9][A-HJKSTUW])|([A-PR-UWYZ][A-HK-Y][0-9][ABEHMNPRVWXY]))\\s{0,1}([0-9][ABD-HJLNP-UW-Z]{2})$)\", 'name':'uk postcode'},\n",
    "    {'pattern': r\"^(|(0\\d)|(1[0-2])):(([0-5]\\d)):(([0-5]\\d)) ([AP]M)$\", 'name':'time'}]        \n"
   ]
  },
  {
   "cell_type": "code",
   "execution_count": 79,
   "id": "9dbf1bc7",
   "metadata": {},
   "outputs": [],
   "source": [
    "import faker.providers\n",
    "\n",
    "regexes=[\n",
    "    {'pattern': r'((978[\\-– ])?[0-9][0-9\\-– ]{10}[\\-– ][0-9xX])|((978)?[0-9]{9}[0-9Xx])', 'name':'isbn  10  and 13'},\n",
    "    {'pattern': r\"^[a-zA-Z0-9!#$%&'*+/=?^_`{|}~-]+(?:\\.[a-zA-Z0-9!#$%&'*+/=?^_`{|}~-]+)*@(?:[a-zA-Z0-9](?:[a-zA-Z0-9-]*[a-zA-Z0-9])?\\.)+(?:[a-zA-Z]{2}|aero|asia|biz|cat|com|coop|edu|gov|info|int|jobs|mil|mobi|museum|name|net|org|pro|tel|travel)$\", 'name':'email'},\n",
    "    {'pattern': r\"^(\\d{4}-){3}\\d{4}$|^(\\d{4} ){3}\\d{4}$|^\\d{16}$\", 'name':'card number'},\n",
    "    {'pattern': r\"^([a-zA-Z '-]+)$\", 'name':'name'},\n",
    "    {'pattern': r\"(::|(([a-fA-F0-9]{1,4}):){7}(([a-fA-F0-9]{1,4}))|(:(:([a-fA-F0-9]{1,4})){1,6})|((([a-fA-F0-9]{1,4}):){1,6}:)|((([a-fA-F0-9]{1,4}):)(:([a-fA-F0-9]{1,4})){1,6})|((([a-fA-F0-9]{1,4}):){2}(:([a-fA-F0-9]{1,4})){1,5})|((([a-fA-F0-9]{1,4}):){3}(:([a-fA-F0-9]{1,4})){1,4})|((([a-fA-F0-9]{1,4}):){4}(:([a-fA-F0-9]{1,4})){1,3})|((([a-fA-F0-9]{1,4}):){5}(:([a-fA-F0-9]{1,4})){1,2}))\", 'name':'IPv6'},\n",
    "    {'pattern': r\"^\\d+(\\.\\d+)?$\", 'name':'float'},\n",
    "    {'pattern': r\"^(?=.*[0-9]+.*)(?=.*[a-zA-Z]+.*)[0-9a-zA-Z]{6,}$\", 'name':'password'},\n",
    "    {'pattern': r\"^((?!000)(?!666)(?:[0-6]\\d{2}|7[0-2][0-9]|73[0-3]|7[5-6][0-9]|77[0-2]))-((?!00)\\d{2})-((?!0000)\\d{4})$\", 'name':'ssn'},\n",
    "    {'pattern': r\"(^(((GIR)\\s{0,1}((0AA))))|(([A-PR-UWYZ][0-9][0-9]?)|([A-PR-UWYZ][A-HK-Y][0-9][0-9]?)|([A-PR-UWYZ][0-9][A-HJKSTUW])|([A-PR-UWYZ][A-HK-Y][0-9][ABEHMNPRVWXY]))\\s{0,1}([0-9][ABD-HJLNP-UW-Z]{2})$)\", 'name':'uk postcode'},\n",
    "    {'pattern': r\"^(|(0\\d)|(1[0-2])):(([0-5]\\d)):(([0-5]\\d)) ([AP]M)$\", 'name':'time'}]        \n",
    "def generate_data(regexes, num_samples=10000):\n",
    "    data=[]\n",
    "    matches=[]\n",
    "    for i in range(num_samples):\n",
    "        regex = regexes[i % len(regexes)]\n",
    "        name = regex['name']\n",
    "        pattern = regex['pattern']\n",
    "        if name == 'name':\n",
    "            data.append(fake.name())\n",
    "        elif name == 'email':\n",
    "            if random.choice([True, False]):\n",
    "                data.append(fake.ascii_email())\n",
    "            else:\n",
    "                data.append(fake.ascii_company_email())\n",
    "\n",
    "        elif name == 'card number':\n",
    "            data.append(exrex.getone(pattern))\n",
    "        elif name == 'isbn  10  and 13':\n",
    "            if random.choice([True, False]):\n",
    "                data.append(fake.isbn10())\n",
    "            else:\n",
    "                data.append(fake.isbn13())\n",
    "        elif name == 'IPv6':\n",
    "            data.append(fake.ipv6())\n",
    "        elif name == 'float':\n",
    "            data.append(str(fake.pyfloat(left_digits=3, right_digits=2, positive=True)))\n",
    "        elif name == 'password':\n",
    "            l=random.randint(8, 16)\n",
    "            data.append(fake.password(length=l, special_chars=False, digits=True, upper_case=True, lower_case=True))\n",
    "        elif name == 'ssn':\n",
    "            data.append(fake.ssn())\n",
    "        elif name == 'uk postcode':\n",
    "            data.append(faker.Faker('en_GB').postcode())\n",
    "        elif name == 'time':\n",
    "            data.append(exrex.getone(pattern))\n",
    "    data_join='\\n'.join(data)\n",
    "    for r in regexes:\n",
    "        pattern = r['pattern']\n",
    "        name = r['name']\n",
    "        print(pattern)\n",
    "        matches.append({'pattern': pattern, 'name': name, 'matches': [m.group(0) for m in re.finditer(pattern, data_join, re.MULTILINE)]})\n",
    "    with open('data.txt', 'w') as fi:\n",
    "        for item in data:\n",
    "            fi.write(f\"{item}\\n\")\n",
    "    with open('matches.txt', 'w') as fi:\n",
    "        for item in matches:\n",
    "            fi.write(f\"{item}\\n\")"
   ]
  },
  {
   "cell_type": "code",
   "execution_count": 81,
   "id": "bd612aaa",
   "metadata": {},
   "outputs": [
    {
     "name": "stdout",
     "output_type": "stream",
     "text": [
      "((978[\\-– ])?[0-9][0-9\\-– ]{10}[\\-– ][0-9xX])|((978)?[0-9]{9}[0-9Xx])\n",
      "^[a-zA-Z0-9!#$%&'*+/=?^_`{|}~-]+(?:\\.[a-zA-Z0-9!#$%&'*+/=?^_`{|}~-]+)*@(?:[a-zA-Z0-9](?:[a-zA-Z0-9-]*[a-zA-Z0-9])?\\.)+(?:[a-zA-Z]{2}|aero|asia|biz|cat|com|coop|edu|gov|info|int|jobs|mil|mobi|museum|name|net|org|pro|tel|travel)$\n",
      "^(\\d{4}-){3}\\d{4}$|^(\\d{4} ){3}\\d{4}$|^\\d{16}$\n",
      "^([a-zA-Z '-]+)$\n",
      "(::|(([a-fA-F0-9]{1,4}):){7}(([a-fA-F0-9]{1,4}))|(:(:([a-fA-F0-9]{1,4})){1,6})|((([a-fA-F0-9]{1,4}):){1,6}:)|((([a-fA-F0-9]{1,4}):)(:([a-fA-F0-9]{1,4})){1,6})|((([a-fA-F0-9]{1,4}):){2}(:([a-fA-F0-9]{1,4})){1,5})|((([a-fA-F0-9]{1,4}):){3}(:([a-fA-F0-9]{1,4})){1,4})|((([a-fA-F0-9]{1,4}):){4}(:([a-fA-F0-9]{1,4})){1,3})|((([a-fA-F0-9]{1,4}):){5}(:([a-fA-F0-9]{1,4})){1,2}))\n",
      "^\\d+(\\.\\d+)?$\n",
      "^(?=.*[0-9]+.*)(?=.*[a-zA-Z]+.*)[0-9a-zA-Z]{6,}$\n",
      "^((?!000)(?!666)(?:[0-6]\\d{2}|7[0-2][0-9]|73[0-3]|7[5-6][0-9]|77[0-2]))-((?!00)\\d{2})-((?!0000)\\d{4})$\n",
      "(^(((GIR)\\s{0,1}((0AA))))|(([A-PR-UWYZ][0-9][0-9]?)|([A-PR-UWYZ][A-HK-Y][0-9][0-9]?)|([A-PR-UWYZ][0-9][A-HJKSTUW])|([A-PR-UWYZ][A-HK-Y][0-9][ABEHMNPRVWXY]))\\s{0,1}([0-9][ABD-HJLNP-UW-Z]{2})$)\n",
      "^(|(0\\d)|(1[0-2])):(([0-5]\\d)):(([0-5]\\d)) ([AP]M)$\n"
     ]
    }
   ],
   "source": [
    "generate_data(regexes, 10000)"
   ]
  },
  {
   "cell_type": "code",
   "execution_count": 65,
   "id": "4d429792",
   "metadata": {},
   "outputs": [
    {
     "data": {
      "text/plain": [
       "'9844-5915-6520-1595'"
      ]
     },
     "execution_count": 65,
     "metadata": {},
     "output_type": "execute_result"
    }
   ],
   "source": [
    "exrex.getone(r\"^(\\d{4}-){3}\\d{4}$|^(\\d{4} ){3}\\d{4}$|^\\d{16}$\")"
   ]
  },
  {
   "cell_type": "code",
   "execution_count": null,
   "id": "24e14951",
   "metadata": {},
   "outputs": [
    {
     "data": {
      "text/plain": [
       "['.45']"
      ]
     },
     "execution_count": 74,
     "metadata": {},
     "output_type": "execute_result"
    }
   ],
   "source": [
    "re.match(r\"^\\d+(\\.\\d+)?$\", )"
   ]
  },
  {
   "cell_type": "code",
   "execution_count": 404,
   "id": "682bdd3f",
   "metadata": {},
   "outputs": [
    {
     "data": {
      "text/plain": [
       "'5121901239721303'"
      ]
     },
     "execution_count": 404,
     "metadata": {},
     "output_type": "execute_result"
    }
   ],
   "source": [
    "faker.credit_card_number(card_type='mastercard')"
   ]
  }
 ],
 "metadata": {
  "kernelspec": {
   "display_name": "Python 3",
   "language": "python",
   "name": "python3"
  },
  "language_info": {
   "codemirror_mode": {
    "name": "ipython",
    "version": 3
   },
   "file_extension": ".py",
   "mimetype": "text/x-python",
   "name": "python",
   "nbconvert_exporter": "python",
   "pygments_lexer": "ipython3",
   "version": "3.12.7"
  }
 },
 "nbformat": 4,
 "nbformat_minor": 5
}
