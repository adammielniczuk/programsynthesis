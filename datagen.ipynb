{
 "cells": [
  {
   "cell_type": "code",
   "execution_count": 1,
   "id": "a379cec2",
   "metadata": {},
   "outputs": [],
   "source": [
    "import exrex\n",
    "import random\n",
    "import re\n",
    "import faker\n",
    "import json"
   ]
  },
  {
   "cell_type": "code",
   "execution_count": null,
   "id": "90f2a040",
   "metadata": {},
   "outputs": [],
   "source": [
    "fake = faker.Faker()\n",
    "sample = fake.ascii_company_email()"
   ]
  },
  {
   "cell_type": "code",
   "execution_count": 3,
   "id": "b47cef2a",
   "metadata": {},
   "outputs": [
    {
     "data": {
      "text/plain": [
       "re.MULTILINE"
      ]
     },
     "execution_count": 3,
     "metadata": {},
     "output_type": "execute_result"
    }
   ],
   "source": [
    "re.MULTILINE"
   ]
  },
  {
   "cell_type": "code",
   "execution_count": null,
   "id": "bfd02a56",
   "metadata": {},
   "outputs": [],
   "source": [
    "regexes=[\n",
    "    {'pattern': r'((978[\\-– ])?[0-9][0-9\\-– ]{10}[\\-– ][0-9xX])|((978)?[0-9]{9}[0-9Xx])', 'name':'isbn  10  and 13'},\n",
    "    {'pattern': r\"^[a-zA-Z0-9!#$%&'*+/=?^_`{|}~-]+(?:\\.[a-zA-Z0-9!#$%&'*+/=?^_`{|}~-]+)*@(?:[a-zA-Z0-9](?:[a-zA-Z0-9-]*[a-zA-Z0-9])?\\.)+(?:[a-zA-Z]{2}|aero|asia|biz|cat|com|coop|edu|gov|info|int|jobs|mil|mobi|museum|name|net|org|pro|tel|travel)$\", 'name':'email'},\n",
    "    {'pattern': r\"^(\\d{4}-){3}\\d{4}$|^(\\d{4} ){3}\\d{4}$|^\\d{16}$\", 'name':'card number'},\n",
    "    {'pattern': r\"^([a-zA-Z '-]+)$\", 'name':'name'},\n",
    "    {'pattern': r\"\"\"(::|(([a-fA-F0-9]{1,4}):){7}(([a-fA-F0-9]{1,4}))|(:(:([a-fA-F0-9]{1,4}))\n",
    "     {1,6})|((([a-fA-F0-9]{1,4}):){1,6}:)|((([a-fA-F0-9]{1,4}):)(:([a-fA-F0-9]{1,4})){1,6})|((([a-fA-F0-9]\n",
    "     {1,4}):){2}(:([a-fA-F0-9]{1,4})){1,5})|((([a-fA-F0-9]{1,4}):){3}(:([a-fA-F0-9]{1,4})){1,4})|((([a-fA-F0-9]{1,4}):)\n",
    "     {4}(:([a-fA-F0-9]{1,4})){1,3})|((([a-fA-F0-9]{1,4}):){5}(:([a-fA-F0-9]{1,4})){1,2}))\"\"\", 'name':'IPv6'},\n",
    "    {'pattern': r\"^(?!^\\d{10,}$)(\\d+(\\.\\d*)?|\\.\\d+)$\", 'name':'float'},\n",
    "    {'pattern': r\"^(?=.*[0-9]+.*)(?=.*[a-zA-Z]+.*)[0-9a-zA-Z]{6,}$\", 'name':'password'},\n",
    "    {'pattern': r\"^((?!000)(?!666)(?:[0-6]\\d{2}|7[0-2][0-9]|73[0-3]|7[5-6][0-9]|77[0-2]))-((?!00)\\d{2})-((?!0000)\\d{4})$\", 'name':'ssn'},\n",
    "    {'pattern': r\"(^(((GIR)\\s{0,1}((0AA))))|(([A-PR-UWYZ][0-9][0-9]?)|([A-PR-UWYZ][A-HK-Y][0-9][0-9]?)|([A-PR-UWYZ][0-9][A-HJKSTUW])|([A-PR-UWYZ][A-HK-Y][0-9][ABEHMNPRVWXY]))\\s{0,1}([0-9][ABD-HJLNP-UW-Z]{2})$)\", 'name':'uk postcode'},\n",
    "    {'pattern': r\"^(|(0\\d)|(1[0-2])):(([0-5]\\d)):(([0-5]\\d)) ([AP]M)$\", 'name':'time'}]    "
   ]
  },
  {
   "cell_type": "code",
   "execution_count": null,
   "id": "9dbf1bc7",
   "metadata": {},
   "outputs": [],
   "source": [
    "def generate_data(regex_definitions, num_samples=1000, data_filename=\"data.txt\", matches_filename=\"matches.txt\"):\n",
    "    data = []\n",
    "    generated_matches_for_targets = []\n",
    "\n",
    "    print(f\"Generating {num_samples} data samples...\")\n",
    "    for i in range(num_samples):\n",
    "        current_regex_def = regex_definitions[i % len(regex_definitions)]\n",
    "        name = current_regex_def[\"name\"]\n",
    "        pattern_for_exrex = current_regex_def[\"pattern\"]\n",
    "        sample = \"\"\n",
    "\n",
    "        try:\n",
    "            if name == \"name\":\n",
    "                sample = fake.name()\n",
    "            elif name == \"email\":\n",
    "                if random.choice([True, False]):\n",
    "                    sample = fake.ascii_email()\n",
    "                else:\n",
    "                    sample = fake.ascii_company_email()\n",
    "            elif name == \"card number\":\n",
    "                sample = exrex.getone(pattern_for_exrex)\n",
    "            elif name == \"isbn 10 and 13\":\n",
    "                if random.choice([True, False]):\n",
    "                    sample = fake.isbn10()\n",
    "                else:\n",
    "                    sample = fake.isbn13()\n",
    "            elif name == \"IPv6\":\n",
    "                sample = fake.ipv6()\n",
    "            elif name == \"float\":\n",
    "                sample = str(fake.pyfloat(left_digits=random.randint(1,4), right_digits=random.randint(1,5), positive=True))\n",
    "            elif name == \"password\":\n",
    "                l = random.randint(8, 16)\n",
    "                sample = fake.password(length=l, special_chars=False, digits=True, upper_case=True, lower_case=True)\n",
    "            elif name == \"ssn\":\n",
    "                sample = fake.ssn()\n",
    "            elif name == \"uk postcode\":\n",
    "                sample = faker.Faker(\"en_GB\").postcode()\n",
    "            elif name == \"time\":\n",
    "                sample = exrex.getone(pattern_for_exrex)\n",
    "            else:\n",
    "                try:\n",
    "                    sample = exrex.getone(pattern_for_exrex)\n",
    "                except Exception:\n",
    "                    sample = fake.word() + str(random.randint(100,999))\n",
    "            \n",
    "            if sample: \n",
    "                data.append(str(sample)) \n",
    "        except Exception as e:\n",
    "            print(f\"Warning: Error generating data for '{name}' (sample {i+1}): {e}. Skipping this sample.\")\n",
    "            data.append(f\"error_generating_for_{name.replace(' ','_')}\")\n",
    "\n",
    "\n",
    "    print(f\"Writing {len(data)} items to {data_filename}...\")\n",
    "    with open(data_filename, \"w\", encoding='utf-8') as fi:\n",
    "        for item in data:\n",
    "            fi.write(f\"{item}\\n\")\n",
    "\n",
    "    print(f\"Processing matches for {matches_filename} based on predefined regexes...\")\n",
    "    data_join = \"\\n\".join(data)\n",
    "\n",
    "    for r_def in regex_definitions:\n",
    "        original_pattern = r_def[\"pattern\"]\n",
    "        target_name = r_def[\"name\"]\n",
    "        current_target_matches = []\n",
    "        print(f\"Finding matches for: {target_name} (Pattern: {original_pattern[:60]}...)\")\n",
    "        try:\n",
    "            for line in data:\n",
    "                match_obj = re.fullmatch(original_pattern, line)\n",
    "                if match_obj:\n",
    "                    current_target_matches.append(match_obj.group(0))\n",
    "        except re.error as e:\n",
    "            print(f\"  Regex error for '{target_name}': {e}. Skipping this pattern for matches.txt.\")\n",
    "            continue\n",
    "\n",
    "        generated_matches_for_targets.append({\n",
    "            \"pattern\": original_pattern,\n",
    "            \"name\": target_name,\n",
    "            \"matches\": list(set(current_target_matches))\n",
    "        })\n",
    "        print(f\"  Found {len(current_target_matches)} raw matches ({len(set(current_target_matches))} unique) for {target_name}.\")\n",
    "\n",
    "\n",
    "    print(f\"Writing {len(generated_matches_for_targets)} target definitions to {matches_filename}...\")\n",
    "    with open(matches_filename, \"w\", encoding='utf-8') as fi:\n",
    "        for item_dict in generated_matches_for_targets:\n",
    "            fi.write(json.dumps(item_dict) + \"\\n\")\n",
    "    print(\"Data generation complete.\")"
   ]
  },
  {
   "cell_type": "code",
   "execution_count": null,
   "id": "bd612aaa",
   "metadata": {},
   "outputs": [
    {
     "name": "stdout",
     "output_type": "stream",
     "text": [
      "Generating 10000 data samples...\n",
      "Writing 10000 items to data.txt...\n",
      "Processing matches for matches.txt based on predefined regexes...\n",
      "Finding matches for: isbn  10  and 13 (Pattern: ((978[\\-– ])?[0-9][0-9\\-– ]{10}[\\-– ][0-9xX])|((978)?[0-9]{9...)\n",
      "  Found 1000 raw matches (1000 unique) for isbn  10  and 13.\n",
      "Finding matches for: email (Pattern: ^[a-zA-Z0-9!#$%&'*+/=?^_`{|}~-]+(?:\\.[a-zA-Z0-9!#$%&'*+/=?^_...)\n",
      "  Found 1000 raw matches (1000 unique) for email.\n",
      "Finding matches for: card number (Pattern: ^(\\d{4}-){3}\\d{4}$|^(\\d{4} ){3}\\d{4}$|^\\d{16}$...)\n",
      "  Found 1000 raw matches (1000 unique) for card number.\n",
      "Finding matches for: name (Pattern: ^([a-zA-Z '-]+)$...)\n",
      "  Found 984 raw matches (978 unique) for name.\n",
      "Finding matches for: IPv6 (Pattern: (::|(([a-fA-F0-9]{1,4}):){7}(([a-fA-F0-9]{1,4}))|(:(:([a-fA-...)\n",
      "  Found 1000 raw matches (1000 unique) for IPv6.\n",
      "Finding matches for: float (Pattern: ^(?!^\\d{10,}$)(\\d+(\\.\\d*)?|\\.\\d+)$...)\n",
      "  Found 1000 raw matches (981 unique) for float.\n",
      "Finding matches for: password (Pattern: ^(?=.*[0-9]+.*)(?=.*[a-zA-Z]+.*)[0-9a-zA-Z]{6,}$...)\n",
      "  Found 1000 raw matches (1000 unique) for password.\n",
      "Finding matches for: ssn (Pattern: ^((?!000)(?!666)(?:[0-6]\\d{2}|7[0-2][0-9]|73[0-3]|7[5-6][0-9...)\n",
      "  Found 848 raw matches (848 unique) for ssn.\n",
      "Finding matches for: uk postcode (Pattern: (^(((GIR)\\s{0,1}((0AA))))|(([A-PR-UWYZ][0-9][0-9]?)|([A-PR-U...)\n",
      "  Found 1000 raw matches (1000 unique) for uk postcode.\n",
      "Finding matches for: time (Pattern: ^(|(0\\d)|(1[0-2])):(([0-5]\\d)):(([0-5]\\d)) ([AP]M)$...)\n",
      "  Found 1000 raw matches (992 unique) for time.\n",
      "Writing 10 target definitions to matches.txt...\n",
      "Data generation complete.\n"
     ]
    },
    {
     "ename": "",
     "evalue": "",
     "output_type": "error",
     "traceback": [
      "\u001b[1;31mThe Kernel crashed while executing code in the current cell or a previous cell. \n",
      "\u001b[1;31mPlease review the code in the cell(s) to identify a possible cause of the failure. \n",
      "\u001b[1;31mClick <a href='https://aka.ms/vscodeJupyterKernelCrash'>here</a> for more info. \n",
      "\u001b[1;31mView Jupyter <a href='command:jupyter.viewOutput'>log</a> for further details."
     ]
    }
   ],
   "source": [
    "generate_data(regexes, 10000)"
   ]
  },
  {
   "cell_type": "code",
   "execution_count": 65,
   "id": "4d429792",
   "metadata": {},
   "outputs": [
    {
     "data": {
      "text/plain": [
       "'9844-5915-6520-1595'"
      ]
     },
     "execution_count": 65,
     "metadata": {},
     "output_type": "execute_result"
    }
   ],
   "source": [
    "exrex.getone(r\"^(\\d{4}-){3}\\d{4}$|^(\\d{4} ){3}\\d{4}$|^\\d{16}$\")"
   ]
  },
  {
   "cell_type": "code",
   "execution_count": null,
   "id": "24e14951",
   "metadata": {},
   "outputs": [
    {
     "data": {
      "text/plain": [
       "['.45']"
      ]
     },
     "execution_count": 74,
     "metadata": {},
     "output_type": "execute_result"
    }
   ],
   "source": [
    "re.match(r\"^\\d+(\\.\\d+)?$\", )"
   ]
  },
  {
   "cell_type": "code",
   "execution_count": null,
   "id": "682bdd3f",
   "metadata": {},
   "outputs": [
    {
     "data": {
      "text/plain": [
       "'5121901239721303'"
      ]
     },
     "execution_count": 404,
     "metadata": {},
     "output_type": "execute_result"
    }
   ],
   "source": [
    "faker.credit_card_number(card_type=\"mastercard\")"
   ]
  }
 ],
 "metadata": {
  "kernelspec": {
   "display_name": "Python 3",
   "language": "python",
   "name": "python3"
  },
  "language_info": {
   "codemirror_mode": {
    "name": "ipython",
    "version": 3
   },
   "file_extension": ".py",
   "mimetype": "text/x-python",
   "name": "python",
   "nbconvert_exporter": "python",
   "pygments_lexer": "ipython3",
   "version": "3.12.7"
  }
 },
 "nbformat": 4,
 "nbformat_minor": 5
}
